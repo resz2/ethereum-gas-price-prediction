{
 "cells": [
  {
   "cell_type": "code",
   "execution_count": 43,
   "id": "a8cda7ea",
   "metadata": {},
   "outputs": [],
   "source": [
    "import pandas as pd\n",
    "import numpy as np\n",
    "import matplotlib.pyplot as plt\n",
    "import seaborn as sns"
   ]
  },
  {
   "cell_type": "code",
   "execution_count": 44,
   "id": "ca744f13",
   "metadata": {},
   "outputs": [
    {
     "data": {
      "text/html": [
       "<div>\n",
       "<style scoped>\n",
       "    .dataframe tbody tr th:only-of-type {\n",
       "        vertical-align: middle;\n",
       "    }\n",
       "\n",
       "    .dataframe tbody tr th {\n",
       "        vertical-align: top;\n",
       "    }\n",
       "\n",
       "    .dataframe thead th {\n",
       "        text-align: right;\n",
       "    }\n",
       "</style>\n",
       "<table border=\"1\" class=\"dataframe\">\n",
       "  <thead>\n",
       "    <tr style=\"text-align: right;\">\n",
       "      <th></th>\n",
       "      <th>Unnamed: 0</th>\n",
       "      <th>difficulty</th>\n",
       "      <th>size</th>\n",
       "      <th>gas_limit</th>\n",
       "      <th>transaction_count</th>\n",
       "      <th>gas</th>\n",
       "      <th>past_min</th>\n",
       "      <th>past_mean</th>\n",
       "      <th>past_max</th>\n",
       "      <th>block_min</th>\n",
       "    </tr>\n",
       "  </thead>\n",
       "  <tbody>\n",
       "    <tr>\n",
       "      <th>0</th>\n",
       "      <td>0</td>\n",
       "      <td>0.497304</td>\n",
       "      <td>1.525696</td>\n",
       "      <td>1.376636</td>\n",
       "      <td>0.768851</td>\n",
       "      <td>-0.306444</td>\n",
       "      <td>-0.471469</td>\n",
       "      <td>-0.552406</td>\n",
       "      <td>-0.503274</td>\n",
       "      <td>0.696954</td>\n",
       "    </tr>\n",
       "    <tr>\n",
       "      <th>1</th>\n",
       "      <td>1</td>\n",
       "      <td>-0.175685</td>\n",
       "      <td>-0.151892</td>\n",
       "      <td>0.634122</td>\n",
       "      <td>-0.146996</td>\n",
       "      <td>0.373021</td>\n",
       "      <td>0.021040</td>\n",
       "      <td>0.091190</td>\n",
       "      <td>0.868203</td>\n",
       "      <td>-0.093861</td>\n",
       "    </tr>\n",
       "    <tr>\n",
       "      <th>2</th>\n",
       "      <td>2</td>\n",
       "      <td>0.074976</td>\n",
       "      <td>-1.414733</td>\n",
       "      <td>-0.108392</td>\n",
       "      <td>-0.544231</td>\n",
       "      <td>-0.382288</td>\n",
       "      <td>-0.202041</td>\n",
       "      <td>-0.555886</td>\n",
       "      <td>-0.473770</td>\n",
       "      <td>-0.357466</td>\n",
       "    </tr>\n",
       "    <tr>\n",
       "      <th>3</th>\n",
       "      <td>3</td>\n",
       "      <td>0.730501</td>\n",
       "      <td>0.085234</td>\n",
       "      <td>0.634122</td>\n",
       "      <td>-0.334579</td>\n",
       "      <td>-0.348186</td>\n",
       "      <td>0.036881</td>\n",
       "      <td>-0.276384</td>\n",
       "      <td>-0.418639</td>\n",
       "      <td>-0.291564</td>\n",
       "    </tr>\n",
       "    <tr>\n",
       "      <th>4</th>\n",
       "      <td>4</td>\n",
       "      <td>1.549208</td>\n",
       "      <td>0.792288</td>\n",
       "      <td>0.634122</td>\n",
       "      <td>0.934365</td>\n",
       "      <td>-0.309031</td>\n",
       "      <td>-0.300726</td>\n",
       "      <td>-0.273407</td>\n",
       "      <td>-0.412249</td>\n",
       "      <td>0.433349</td>\n",
       "    </tr>\n",
       "  </tbody>\n",
       "</table>\n",
       "</div>"
      ],
      "text/plain": [
       "   Unnamed: 0  difficulty      size  gas_limit  transaction_count       gas  \\\n",
       "0           0    0.497304  1.525696   1.376636           0.768851 -0.306444   \n",
       "1           1   -0.175685 -0.151892   0.634122          -0.146996  0.373021   \n",
       "2           2    0.074976 -1.414733  -0.108392          -0.544231 -0.382288   \n",
       "3           3    0.730501  0.085234   0.634122          -0.334579 -0.348186   \n",
       "4           4    1.549208  0.792288   0.634122           0.934365 -0.309031   \n",
       "\n",
       "   past_min  past_mean  past_max  block_min  \n",
       "0 -0.471469  -0.552406 -0.503274   0.696954  \n",
       "1  0.021040   0.091190  0.868203  -0.093861  \n",
       "2 -0.202041  -0.555886 -0.473770  -0.357466  \n",
       "3  0.036881  -0.276384 -0.418639  -0.291564  \n",
       "4 -0.300726  -0.273407 -0.412249   0.433349  "
      ]
     },
     "execution_count": 44,
     "metadata": {},
     "output_type": "execute_result"
    }
   ],
   "source": [
    "df = pd.read_csv('processed.csv')\n",
    "df.head()"
   ]
  },
  {
   "cell_type": "code",
   "execution_count": 45,
   "id": "d9d306a7",
   "metadata": {},
   "outputs": [],
   "source": [
    "df.drop(['Unnamed: 0'], axis=1, inplace=True)"
   ]
  },
  {
   "cell_type": "code",
   "execution_count": 46,
   "id": "57206561",
   "metadata": {},
   "outputs": [
    {
     "data": {
      "text/html": [
       "<div>\n",
       "<style scoped>\n",
       "    .dataframe tbody tr th:only-of-type {\n",
       "        vertical-align: middle;\n",
       "    }\n",
       "\n",
       "    .dataframe tbody tr th {\n",
       "        vertical-align: top;\n",
       "    }\n",
       "\n",
       "    .dataframe thead th {\n",
       "        text-align: right;\n",
       "    }\n",
       "</style>\n",
       "<table border=\"1\" class=\"dataframe\">\n",
       "  <thead>\n",
       "    <tr style=\"text-align: right;\">\n",
       "      <th></th>\n",
       "      <th>difficulty</th>\n",
       "      <th>size</th>\n",
       "      <th>gas_limit</th>\n",
       "      <th>transaction_count</th>\n",
       "      <th>gas</th>\n",
       "      <th>past_min</th>\n",
       "      <th>past_mean</th>\n",
       "      <th>past_max</th>\n",
       "      <th>block_min</th>\n",
       "    </tr>\n",
       "  </thead>\n",
       "  <tbody>\n",
       "    <tr>\n",
       "      <th>0</th>\n",
       "      <td>0.497304</td>\n",
       "      <td>1.525696</td>\n",
       "      <td>1.376636</td>\n",
       "      <td>0.768851</td>\n",
       "      <td>-0.306444</td>\n",
       "      <td>-0.471469</td>\n",
       "      <td>-0.552406</td>\n",
       "      <td>-0.503274</td>\n",
       "      <td>0.696954</td>\n",
       "    </tr>\n",
       "    <tr>\n",
       "      <th>1</th>\n",
       "      <td>-0.175685</td>\n",
       "      <td>-0.151892</td>\n",
       "      <td>0.634122</td>\n",
       "      <td>-0.146996</td>\n",
       "      <td>0.373021</td>\n",
       "      <td>0.021040</td>\n",
       "      <td>0.091190</td>\n",
       "      <td>0.868203</td>\n",
       "      <td>-0.093861</td>\n",
       "    </tr>\n",
       "    <tr>\n",
       "      <th>2</th>\n",
       "      <td>0.074976</td>\n",
       "      <td>-1.414733</td>\n",
       "      <td>-0.108392</td>\n",
       "      <td>-0.544231</td>\n",
       "      <td>-0.382288</td>\n",
       "      <td>-0.202041</td>\n",
       "      <td>-0.555886</td>\n",
       "      <td>-0.473770</td>\n",
       "      <td>-0.357466</td>\n",
       "    </tr>\n",
       "    <tr>\n",
       "      <th>3</th>\n",
       "      <td>0.730501</td>\n",
       "      <td>0.085234</td>\n",
       "      <td>0.634122</td>\n",
       "      <td>-0.334579</td>\n",
       "      <td>-0.348186</td>\n",
       "      <td>0.036881</td>\n",
       "      <td>-0.276384</td>\n",
       "      <td>-0.418639</td>\n",
       "      <td>-0.291564</td>\n",
       "    </tr>\n",
       "    <tr>\n",
       "      <th>4</th>\n",
       "      <td>1.549208</td>\n",
       "      <td>0.792288</td>\n",
       "      <td>0.634122</td>\n",
       "      <td>0.934365</td>\n",
       "      <td>-0.309031</td>\n",
       "      <td>-0.300726</td>\n",
       "      <td>-0.273407</td>\n",
       "      <td>-0.412249</td>\n",
       "      <td>0.433349</td>\n",
       "    </tr>\n",
       "  </tbody>\n",
       "</table>\n",
       "</div>"
      ],
      "text/plain": [
       "   difficulty      size  gas_limit  transaction_count       gas  past_min  \\\n",
       "0    0.497304  1.525696   1.376636           0.768851 -0.306444 -0.471469   \n",
       "1   -0.175685 -0.151892   0.634122          -0.146996  0.373021  0.021040   \n",
       "2    0.074976 -1.414733  -0.108392          -0.544231 -0.382288 -0.202041   \n",
       "3    0.730501  0.085234   0.634122          -0.334579 -0.348186  0.036881   \n",
       "4    1.549208  0.792288   0.634122           0.934365 -0.309031 -0.300726   \n",
       "\n",
       "   past_mean  past_max  block_min  \n",
       "0  -0.552406 -0.503274   0.696954  \n",
       "1   0.091190  0.868203  -0.093861  \n",
       "2  -0.555886 -0.473770  -0.357466  \n",
       "3  -0.276384 -0.418639  -0.291564  \n",
       "4  -0.273407 -0.412249   0.433349  "
      ]
     },
     "execution_count": 46,
     "metadata": {},
     "output_type": "execute_result"
    }
   ],
   "source": [
    "df.head()"
   ]
  },
  {
   "cell_type": "markdown",
   "id": "c3cdccfe",
   "metadata": {},
   "source": [
    "## Train-Test split"
   ]
  },
  {
   "cell_type": "code",
   "execution_count": 47,
   "id": "9b130549",
   "metadata": {},
   "outputs": [],
   "source": [
    "from sklearn.model_selection import train_test_split\n",
    "x = df.drop(['block_min'], axis=1)\n",
    "y = df['block_min']\n",
    "\n",
    "x_train, x_test, y_train, y_test = train_test_split(x, y, test_size = 0.3)"
   ]
  },
  {
   "cell_type": "markdown",
   "id": "a176366a",
   "metadata": {},
   "source": [
    "## Gridsearch to tune parameters"
   ]
  },
  {
   "cell_type": "code",
   "execution_count": null,
   "id": "da8da3ef",
   "metadata": {},
   "outputs": [
    {
     "name": "stdout",
     "output_type": "stream",
     "text": [
      "Fitting 3 folds for each of 9 candidates, totalling 27 fits\n"
     ]
    }
   ],
   "source": [
    "from sklearn.svm import SVR\n",
    "from sklearn.model_selection import GridSearchCV\n",
    "\n",
    "clf = SVR()\n",
    "kernel = ['linear', 'sigmoid', 'rbf']\n",
    "C = [1, 5, 10]\n",
    "parameters = {'kernel': kernel ,'C': C}\n",
    "model = GridSearchCV(estimator=clf, param_grid=parameters, cv=3, scoring='r2', return_train_score=True, verbose=1)\n",
    "model.fit(x_train[:10000], y_train[:10000])"
   ]
  },
  {
   "cell_type": "code",
   "execution_count": null,
   "id": "49a9d627",
   "metadata": {},
   "outputs": [],
   "source": [
    "print(\"Model with best parameters :\\n\", model.best_params_)\n",
    "train_auc = model.cv_results_['mean_train_score'].reshape(len(kernel), len(C))\n",
    "cv_auc = model.cv_results_['mean_test_score'].reshape(len(kernel), len(C))\n",
    "\n",
    "f, axes = plt.subplots(1, 2,figsize=(15,5))\n",
    "\n",
    "for i in range(2):\n",
    "    title = train_auc if i == 0 else cv_auc\n",
    "    sns.heatmap(title, xticklabels=no_of_estimators, yticklabels=maximumdepth, annot=True, ax=axes[i])\n",
    "    axes[i].set_title(f\"Gridearch {'Train' if i==0 else 'CV'}\")\n",
    "    axes[i].set_xlabel(\"no_of_estimators\")\n",
    "    axes[i].set_ylabel(\"maximum_depth\")"
   ]
  },
  {
   "cell_type": "markdown",
   "id": "db766d62",
   "metadata": {},
   "source": [
    "## Training the model"
   ]
  },
  {
   "cell_type": "code",
   "execution_count": null,
   "id": "b8b2dcf3",
   "metadata": {},
   "outputs": [],
   "source": [
    "svr = SVR(**model.best_params_)\n",
    "svr.fit(x_train[:10000], y_train)"
   ]
  },
  {
   "cell_type": "code",
   "execution_count": null,
   "id": "82f6cf51",
   "metadata": {},
   "outputs": [],
   "source": [
    "y_pred = svr.predict(x_test)"
   ]
  },
  {
   "cell_type": "code",
   "execution_count": null,
   "id": "641d5453",
   "metadata": {},
   "outputs": [],
   "source": [
    "y_p_tr = svr.predict(x_train)"
   ]
  },
  {
   "cell_type": "code",
   "execution_count": null,
   "id": "5bf36c25",
   "metadata": {},
   "outputs": [],
   "source": [
    "from sklearn.metrics import mean_absolute_error,mean_squared_error,accuracy_score, r2_score\n",
    "from math import sqrt\n",
    "\n",
    "def calculateMetric(y_pred,y_test):\n",
    "    print(\"MAE=\",mean_absolute_error(y_test,y_pred))\n",
    "    print(\"RMSE=\",sqrt(mean_squared_error(y_test,y_pred)))\n",
    "    print(\"R2 Score\", r2_score(y_test,y_pred))"
   ]
  },
  {
   "cell_type": "code",
   "execution_count": null,
   "id": "bceff329",
   "metadata": {},
   "outputs": [],
   "source": [
    "calculateMetric(y_pred, y_test)"
   ]
  },
  {
   "cell_type": "code",
   "execution_count": null,
   "id": "f9ca8e16",
   "metadata": {},
   "outputs": [],
   "source": [
    "calculateMetric(y_p_tr, y_train)"
   ]
  },
  {
   "cell_type": "code",
   "execution_count": null,
   "id": "15b2f0ba",
   "metadata": {},
   "outputs": [],
   "source": []
  },
  {
   "cell_type": "code",
   "execution_count": null,
   "id": "302042a6",
   "metadata": {},
   "outputs": [],
   "source": []
  }
 ],
 "metadata": {
  "kernelspec": {
   "display_name": "Python 3 (ipykernel)",
   "language": "python",
   "name": "python3"
  },
  "language_info": {
   "codemirror_mode": {
    "name": "ipython",
    "version": 3
   },
   "file_extension": ".py",
   "mimetype": "text/x-python",
   "name": "python",
   "nbconvert_exporter": "python",
   "pygments_lexer": "ipython3",
   "version": "3.9.6"
  }
 },
 "nbformat": 4,
 "nbformat_minor": 5
}
