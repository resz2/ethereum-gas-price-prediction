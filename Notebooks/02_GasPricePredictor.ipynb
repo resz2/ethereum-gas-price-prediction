{
 "cells": [
  {
   "cell_type": "code",
   "execution_count": 8,
   "id": "9539f53d",
   "metadata": {},
   "outputs": [],
   "source": [
    "import pandas as pd\n",
    "from sklearn.model_selection import train_test_split\n",
    "from sklearn import metrics\n",
    "from sklearn.metrics import mean_absolute_error,mean_squared_error,accuracy_score, r2_score\n",
    "import matplotlib.pyplot as plt\n",
    "from math import sqrt\n",
    "import seaborn as sns\n",
    "from sklearn.preprocessing import StandardScaler\n",
    "import keras\n",
    "import pickle\n",
    "import xgboost as xgb"
   ]
  },
  {
   "cell_type": "code",
   "execution_count": null,
   "id": "5018a5a5",
   "metadata": {},
   "outputs": [],
   "source": []
  },
  {
   "cell_type": "markdown",
   "id": "89d69eca",
   "metadata": {},
   "source": [
    "## Loading training data"
   ]
  },
  {
   "cell_type": "code",
   "execution_count": 2,
   "id": "81665d98",
   "metadata": {},
   "outputs": [],
   "source": [
    "data = pd.read_csv(\"../Data/unscaled.csv\")\n",
    "del data['Unnamed: 0']\n",
    "scaler = StandardScaler()\n",
    "# data = data[:200000]\n",
    "y = data['block_min']\n",
    "X = data\n",
    "X_train,X_test,y_train,y_test = train_test_split(X,y,test_size=0.3)\n",
    "X_train_scaled = X_train.copy()\n",
    "X_train_scaled = X_train_scaled.drop(['block_min'], axis=1)\n",
    "X_test_scaled = X_test.copy()\n",
    "X_test_scaled = X_test_scaled.drop(['block_min'], axis=1)\n",
    "X_train_scaled[X_train_scaled.columns[:]] = scaler.fit_transform(X_train_scaled[X_train_scaled.columns[:]])\n",
    "X_test_scaled[X_test_scaled.columns[:]] = scaler.fit_transform(X_test_scaled[X_test_scaled.columns[:]])"
   ]
  },
  {
   "cell_type": "code",
   "execution_count": null,
   "id": "0f8f2815",
   "metadata": {},
   "outputs": [],
   "source": []
  },
  {
   "cell_type": "markdown",
   "id": "4c73b5b3",
   "metadata": {},
   "source": [
    "## User Input"
   ]
  },
  {
   "cell_type": "code",
   "execution_count": 3,
   "id": "630cc625",
   "metadata": {},
   "outputs": [],
   "source": [
    "def inputText():\n",
    "    print('Choose the model you want to load:\\n')\n",
    "    print('1. Linear Regression')\n",
    "    print('2. Random Forest')\n",
    "    print('3. Neural Net')\n",
    "    print('4. ADABoost')\n",
    "    print('5. XGBoost')\n",
    "\n",
    "def linear():\n",
    "    print('Choose type of linear regressor:\\n')\n",
    "    print('1. Simple LR')\n",
    "    print('2. Lasso LR')\n",
    "    print('3. Ridge LR')\n",
    "    name = ''\n",
    "    mtype = int(input())\n",
    "    if mtype == 1:\n",
    "        name = '../weights/simpleLR.sav'\n",
    "    elif mtype == 2:\n",
    "        name = '../weights/lassoLR.sav'\n",
    "    elif mtype == 3:\n",
    "        name = '../weights/ridgeLR.sav'\n",
    "    else:\n",
    "        print('Invalid input, simple linear regression model will be chosen')\n",
    "        name = '../weights/simpleLR.sav'\n",
    "    return name\n",
    "\n",
    "def choosemodel():\n",
    "    fileName = ''\n",
    "    flag = False\n",
    "    inputText()\n",
    "    choice = int(input())\n",
    "    if choice == 1:\n",
    "        fileName = linear()\n",
    "    elif choice == 2:\n",
    "        fileName = '../weights/randomForest.sav'\n",
    "    elif choice == 3:\n",
    "        fileName = '../weights/neuralNet'\n",
    "        return nn(fileName)\n",
    "    elif choice == 4:\n",
    "        fileName = '../weights/ADABoost.sav'\n",
    "    elif choice == 5:\n",
    "        fileName = '../weights/xgboost.json'\n",
    "        return xg(fileName)\n",
    "    else:\n",
    "        print('Enter 1 to 5')\n",
    "        return\n",
    "    loaded_model = pickle.load(open(fileName, 'rb'))\n",
    "    return loaded_model"
   ]
  },
  {
   "cell_type": "code",
   "execution_count": 4,
   "id": "576cc2a1",
   "metadata": {},
   "outputs": [],
   "source": [
    "def nn(file):\n",
    "    model = keras.models.load_model(file)\n",
    "    return model\n",
    "\n",
    "def xg(file):\n",
    "    model = xgb.XGBRegressor()\n",
    "    model.load_model(file)\n",
    "    return model"
   ]
  },
  {
   "cell_type": "code",
   "execution_count": null,
   "id": "8b097b8e",
   "metadata": {},
   "outputs": [],
   "source": []
  },
  {
   "cell_type": "markdown",
   "id": "b057fd14",
   "metadata": {},
   "source": [
    "## Loading model"
   ]
  },
  {
   "cell_type": "code",
   "execution_count": 5,
   "id": "fbf152e6",
   "metadata": {},
   "outputs": [
    {
     "name": "stdout",
     "output_type": "stream",
     "text": [
      "Choose the model you want to load:\n",
      "\n",
      "1. Linear Regression\n",
      "2. Random Forest\n",
      "3. Neural Net\n",
      "4. ADABoost\n",
      "5. XGBoost\n",
      "3\n"
     ]
    }
   ],
   "source": [
    "model = choosemodel()"
   ]
  },
  {
   "cell_type": "code",
   "execution_count": null,
   "id": "4a6cd6ba",
   "metadata": {},
   "outputs": [],
   "source": []
  },
  {
   "cell_type": "markdown",
   "id": "1d0a1fc7",
   "metadata": {},
   "source": [
    "## Testing the model"
   ]
  },
  {
   "cell_type": "code",
   "execution_count": 9,
   "id": "a78ec3ca",
   "metadata": {},
   "outputs": [],
   "source": [
    "def calculateR2(y_test,y_pred):\n",
    "    v = ((y_test - y_test.mean())**2).sum()\n",
    "    u = ((y_test - y_pred)**2).sum()\n",
    "    return 1-u/v\n",
    "\n",
    "def accuracy(y_pred,data):\n",
    "    correct=0\n",
    "    i=0\n",
    "    for index,row in data.iterrows():\n",
    "        if(y_pred[i]>=row['block_min'] and y_pred[i]<=row['past_max']):\n",
    "            correct+=1\n",
    "        i+=1\n",
    "    acc = correct/data.shape[0]\n",
    "    return acc \n",
    "\n",
    "def calculateMetric(y_pred,y_test, data):\n",
    "    print(\"MAE=\",mean_absolute_error(y_test,y_pred))\n",
    "    print(\"RMSE=\",sqrt(mean_squared_error(y_test,y_pred)))\n",
    "    print(\"R2 Score=\",r2_score(y_test,y_pred))\n",
    "    print('Accuracy=', accuracy(y_pred, data))"
   ]
  },
  {
   "cell_type": "code",
   "execution_count": 10,
   "id": "e0398a65",
   "metadata": {},
   "outputs": [
    {
     "name": "stdout",
     "output_type": "stream",
     "text": [
      "MAE= 3468354118.2385836\n",
      "RMSE= 5200934162.607484\n",
      "R2 Score= 0.5438013654679732\n",
      "Accuracy= 0.519556645639313\n"
     ]
    }
   ],
   "source": [
    "y_pred = model.predict(X_test_scaled)\n",
    "calculateMetric(y_pred, y_test, X_test)"
   ]
  },
  {
   "cell_type": "code",
   "execution_count": null,
   "id": "581e1d0d",
   "metadata": {},
   "outputs": [],
   "source": []
  },
  {
   "cell_type": "code",
   "execution_count": null,
   "id": "ad9ea3be",
   "metadata": {},
   "outputs": [],
   "source": []
  },
  {
   "cell_type": "code",
   "execution_count": null,
   "id": "0e9d99b2",
   "metadata": {},
   "outputs": [],
   "source": []
  }
 ],
 "metadata": {
  "kernelspec": {
   "display_name": "Python 3 (ipykernel)",
   "language": "python",
   "name": "python3"
  },
  "language_info": {
   "codemirror_mode": {
    "name": "ipython",
    "version": 3
   },
   "file_extension": ".py",
   "mimetype": "text/x-python",
   "name": "python",
   "nbconvert_exporter": "python",
   "pygments_lexer": "ipython3",
   "version": "3.9.6"
  }
 },
 "nbformat": 4,
 "nbformat_minor": 5
}
