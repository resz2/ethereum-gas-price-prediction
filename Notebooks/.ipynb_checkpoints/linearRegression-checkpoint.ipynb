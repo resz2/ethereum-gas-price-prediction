{
 "cells": [
  {
   "cell_type": "code",
   "execution_count": 1,
   "metadata": {
    "colab": {
     "base_uri": "https://localhost:8080/"
    },
    "executionInfo": {
     "elapsed": 64326,
     "status": "ok",
     "timestamp": 1637890862988,
     "user": {
      "displayName": "Saatvik Bhatnagar",
      "photoUrl": "https://lh3.googleusercontent.com/a/default-user=s64",
      "userId": "01069355769485426396"
     },
     "user_tz": -330
    },
    "id": "Wq8F_dpLZ3gG",
    "outputId": "79f0bedf-c4ed-45c1-e506-49f233443282"
   },
   "outputs": [],
   "source": [
    "import pandas as pd\n",
    "from sklearn.model_selection import train_test_split\n",
    "from sklearn.ensemble import RandomForestRegressor,AdaBoostRegressor\n",
    "from sklearn.linear_model import LinearRegression,Lasso,Ridge\n",
    "from sklearn.model_selection import GridSearchCV\n",
    "from sklearn import metrics\n",
    "from sklearn.metrics import mean_absolute_error,mean_squared_error,accuracy_score\n",
    "import matplotlib.pyplot as plt\n",
    "from math import sqrt\n",
    "import seaborn as sns\n",
    "from sklearn.svm import SVR\n",
    "from sklearn.preprocessing import StandardScaler"
   ]
  },
  {
   "cell_type": "code",
   "execution_count": 2,
   "metadata": {
    "colab": {
     "base_uri": "https://localhost:8080/"
    },
    "executionInfo": {
     "elapsed": 64326,
     "status": "ok",
     "timestamp": 1637890862988,
     "user": {
      "displayName": "Saatvik Bhatnagar",
      "photoUrl": "https://lh3.googleusercontent.com/a/default-user=s64",
      "userId": "01069355769485426396"
     },
     "user_tz": -330
    },
    "id": "Wq8F_dpLZ3gG",
    "outputId": "79f0bedf-c4ed-45c1-e506-49f233443282"
   },
   "outputs": [],
   "source": [
    "def calculateR2(y_test,y_pred):\n",
    "    v = ((y_test - y_test.mean())**2).sum()\n",
    "    u = ((y_test - y_pred)**2).sum()\n",
    "    return 1-u/v\n",
    "\n",
    "def calculateMetric(y_pred,y_test):\n",
    "    print(\"MAE=\",mean_absolute_error(y_test,y_pred))\n",
    "    print(\"RMSE=\",sqrt(mean_squared_error(y_test,y_pred)))\n",
    "    print(\"R2 Score\",calculateR2(y_test,y_pred))\n",
    "\n",
    "def linearRegression(y_train,y_test,X_train_scaled,X_test_scaled,X_train,X_test): \n",
    "    simpleLinearRegressor = LinearRegression()\n",
    "    simpleLinearRegressor.fit(X_train_scaled,y_train)\n",
    "    print(\"Training Data\");\n",
    "    y_pred = simpleLinearRegressor.predict(X_train_scaled)\n",
    "    accuracy(y_pred,X_train)\n",
    "    calculateMetric(y_pred,y_train)\n",
    "    y_pred = simpleLinearRegressor.predict(X_test_scaled)\n",
    "    print(\"Testing Data\");\n",
    "    accuracy(y_pred,X_test)\n",
    "    calculateMetric(y_pred,y_test)\n",
    "    return simpleLinearRegressor\n",
    "  \n",
    "\n",
    "\n",
    "def lassoRegression(y_train,y_test,X_train_scaled,X_test_scaled,X_train,X_test):\n",
    "    lassoRegressor = Lasso()\n",
    "    alphas = [1000,1e5,1e7,1e9,1e10]\n",
    "    max_iters = [250,500,1000,2000,5000]\n",
    "    parameters = {\"alpha\":alphas,\"max_iter\":max_iters}\n",
    "    reg = GridSearchCV(estimator=lassoRegressor,param_grid=parameters,cv=3,scoring=\"neg_root_mean_squared_error\",n_jobs=-1,return_train_score=True)\n",
    "    reg.fit(X_train_scaled,y_train)\n",
    "    print(\"Model with best parameters :\\n\",reg.best_params_)\n",
    "    train_auc = reg.cv_results_['mean_train_score'].reshape(len(alphas), len(max_iters))\n",
    "    cv_auc = reg.cv_results_['mean_test_score'].reshape(len(alphas), len(max_iters))\n",
    "\n",
    "    f, axes = plt.subplots(1, 2,figsize=(30,10))\n",
    "\n",
    "    for i in range(2):\n",
    "        title = train_auc if i == 0 else cv_auc\n",
    "        sns.heatmap(title, xticklabels=alphas, yticklabels=max_iters, annot=True, ax=axes[i])\n",
    "        axes[i].set_title(f\"Grid search {'Train' if i==0 else 'CV'}\")\n",
    "        axes[i].set_xlabel(\"alpha\")\n",
    "        axes[i].set_ylabel(\"maximum_iterations\")\n",
    "\n",
    "def bestLassoRegressor(y_train,y_test,X_train_scaled,X_test_scaled,X_train,X_test):\n",
    "    bestLasso = Lasso(max_iter=1000,alpha=100000)\n",
    "    bestLasso.fit(X_train_scaled,y_train)\n",
    "    print(\"Training Data\")\n",
    "    y_pred = bestLasso.predict(X_train_scaled)\n",
    "    accuracy(y_pred,X_train)\n",
    "    calculateMetric(y_pred,y_train)\n",
    "    y_pred = bestLasso.predict(X_test_scaled)\n",
    "    print(\"Testing Data\")\n",
    "    accuracy(y_pred,X_test)\n",
    "    calculateMetric(y_pred,y_test)\n",
    "    return bestLasso\n",
    "\n",
    "\n",
    "def ridgeRegression(y_train,y_test,X_train_scaled,X_test_scaled,X_train,X_test):\n",
    "    ridgeRegressor = Ridge()\n",
    "    alphas = [1000,1e5,1e7,1e9,1e10]\n",
    "    max_iters = [250,500,1000,2000,5000]\n",
    "    parameters = {\"alpha\":alphas,\"max_iter\":max_iters}\n",
    "    reg = GridSearchCV(estimator=ridgeRegressor,param_grid=parameters,cv=3,scoring=\"neg_root_mean_squared_error\",n_jobs=-1,return_train_score=True)\n",
    "    reg.fit(X_train_scaled,y_train)\n",
    "    print(\"Model with best parameters :\\n\",reg.best_params_)\n",
    "    train_auc = reg.cv_results_['mean_train_score'].reshape(len(alphas), len(max_iters))\n",
    "    cv_auc = reg.cv_results_['mean_test_score'].reshape(len(alphas), len(max_iters))\n",
    "\n",
    "    f, axes = plt.subplots(1, 2,figsize=(30,10))\n",
    "\n",
    "    for i in range(2):\n",
    "        title = train_auc if i == 0 else cv_auc\n",
    "        sns.heatmap(title, xticklabels=alphas, yticklabels=max_iters, annot=True, ax=axes[i])\n",
    "        axes[i].set_title(f\"Grid search {'Train' if i==0 else 'CV'}\")\n",
    "        axes[i].set_xlabel(\"alpha\")\n",
    "        axes[i].set_ylabel(\"maximum_iterations\")\n",
    "\n",
    "def bestRidgeRegressor(y_train,y_test,X_train_scaled,X_test_scaled,X_train,X_test):\n",
    "    bestRidge = Ridge(max_iter=250,alpha=1000)\n",
    "    bestRidge.fit(X_train_scaled,y_train)\n",
    "    print(\"Training Data\")\n",
    "    y_pred = bestRidge.predict(X_train_scaled)\n",
    "    accuracy(y_pred,X_train)\n",
    "    calculateMetric(y_pred,y_train)\n",
    "    y_pred = bestRidge.predict(X_test_scaled)\n",
    "    print(\"Testing Data\")\n",
    "    accuracy(y_pred,X_test)\n",
    "    calculateMetric(y_pred,y_test)\n",
    "    return bestRidge\n",
    "\n",
    "def accuracy(y_pred,data):\n",
    "    correct=0\n",
    "    i=0\n",
    "    for index,row in data.iterrows():\n",
    "        if(y_pred[i]>=row['block_min'] and y_pred[i]<=row['past_max']):\n",
    "            correct+=1\n",
    "        i+=1\n",
    "    acc = correct/data.shape[0]\n",
    "    print(\"Accuracy\", acc)\n",
    "    return acc "
   ]
  },
  {
   "cell_type": "code",
   "execution_count": 3,
   "metadata": {
    "colab": {
     "base_uri": "https://localhost:8080/"
    },
    "executionInfo": {
     "elapsed": 64326,
     "status": "ok",
     "timestamp": 1637890862988,
     "user": {
      "displayName": "Saatvik Bhatnagar",
      "photoUrl": "https://lh3.googleusercontent.com/a/default-user=s64",
      "userId": "01069355769485426396"
     },
     "user_tz": -330
    },
    "id": "Wq8F_dpLZ3gG",
    "outputId": "79f0bedf-c4ed-45c1-e506-49f233443282"
   },
   "outputs": [],
   "source": [
    "data = pd.read_csv(\"../Data/unscaled.csv\")\n",
    "del data['Unnamed: 0']\n",
    "scaler = StandardScaler()\n",
    "# data = data[:200000]\n",
    "y = data['block_min']\n",
    "X = data\n",
    "X_train,X_test,y_train,y_test = train_test_split(X,y,test_size=0.3)\n",
    "X_train_scaled = X_train.copy()\n",
    "X_train_scaled = X_train_scaled.drop(['block_min'], axis=1)\n",
    "X_test_scaled = X_test.copy()\n",
    "X_test_scaled = X_test_scaled.drop(['block_min'], axis=1)\n",
    "X_train_scaled[X_train_scaled.columns[:]] = scaler.fit_transform(X_train_scaled[X_train_scaled.columns[:]])\n",
    "X_test_scaled[X_test_scaled.columns[:]] = scaler.fit_transform(X_test_scaled[X_test_scaled.columns[:]])"
   ]
  },
  {
   "cell_type": "code",
   "execution_count": 34,
   "metadata": {
    "colab": {
     "base_uri": "https://localhost:8080/"
    },
    "executionInfo": {
     "elapsed": 64326,
     "status": "ok",
     "timestamp": 1637890862988,
     "user": {
      "displayName": "Saatvik Bhatnagar",
      "photoUrl": "https://lh3.googleusercontent.com/a/default-user=s64",
      "userId": "01069355769485426396"
     },
     "user_tz": -330
    },
    "id": "Wq8F_dpLZ3gG",
    "outputId": "79f0bedf-c4ed-45c1-e506-49f233443282"
   },
   "outputs": [
    {
     "name": "stdout",
     "output_type": "stream",
     "text": [
      "Training Data\n",
      "Accuracy 0.5035393962274884\n",
      "MAE= 3474882180.236948\n",
      "RMSE= 5381574602.26646\n",
      "R2 Score 0.4933011919620248\n",
      "Testing Data\n",
      "Accuracy 0.5053895792417482\n",
      "MAE= 3480044804.6214204\n",
      "RMSE= 5390157755.152437\n",
      "R2 Score 0.5034793565755726\n"
     ]
    }
   ],
   "source": [
    "# print(df.head())\n",
    "# lrmodel = linearRegression(y_train,y_test,X_train_scaled,X_test_scaled,X_train,X_test)\n",
    "# lassoRegression(y_train,y_test,X_train_scaled,X_test_scaled,X_train,X_test)\n",
    "# bestLassoRegressor(y_train,y_test,X_train_scaled,X_test_scaled,X_train,X_test)\n",
    "# ridgeRegression(y_train,y_test,X_train_scaled,X_test_scaled,X_train,X_test)\n",
    "# bestRidgeRegressor(y_train,y_test,X_train_scaled,X_test_scaled,X_train,X_test)"
   ]
  },
  {
   "cell_type": "code",
   "execution_count": 4,
   "metadata": {},
   "outputs": [
    {
     "name": "stdout",
     "output_type": "stream",
     "text": [
      "Training Data\n",
      "Accuracy 0.5033713153107493\n",
      "MAE= 3463788347.413525\n",
      "RMSE= 5372102326.350784\n",
      "R2 Score 0.5006019127931023\n",
      "Testing Data\n",
      "Accuracy 0.5010121488024666\n",
      "MAE= 3467271727.6328917\n",
      "RMSE= 5412321018.006572\n",
      "R2 Score 0.48645427739093905\n"
     ]
    }
   ],
   "source": [
    "lrmodel = linearRegression(y_train,y_test,X_train_scaled,X_test_scaled,X_train,X_test)"
   ]
  },
  {
   "cell_type": "code",
   "execution_count": 5,
   "metadata": {},
   "outputs": [
    {
     "name": "stdout",
     "output_type": "stream",
     "text": [
      "Training Data\n",
      "Accuracy 0.5033739011710068\n",
      "MAE= 3463792673.4665756\n",
      "RMSE= 5372102336.336195\n",
      "R2 Score 0.5006019109365871\n",
      "Testing Data\n",
      "Accuracy 0.5010211993133679\n",
      "MAE= 3467274585.981293\n",
      "RMSE= 5412320918.45978\n",
      "R2 Score 0.4864542962818468\n"
     ]
    }
   ],
   "source": [
    "lassomodel = bestLassoRegressor(y_train,y_test,X_train_scaled,X_test_scaled,X_train,X_test)"
   ]
  },
  {
   "cell_type": "code",
   "execution_count": 6,
   "metadata": {},
   "outputs": [
    {
     "name": "stdout",
     "output_type": "stream",
     "text": [
      "Training Data\n",
      "Accuracy 0.5034437193979601\n",
      "MAE= 3463412911.6557345\n",
      "RMSE= 5372107596.379643\n",
      "R2 Score 0.5006009329742296\n",
      "Testing Data\n",
      "Accuracy 0.5011086875854142\n",
      "MAE= 3466878125.0809517\n",
      "RMSE= 5412392607.16137\n",
      "R2 Score 0.48644069188954253\n"
     ]
    }
   ],
   "source": [
    "ridgemodel = bestRidgeRegressor(y_train,y_test,X_train_scaled,X_test_scaled,X_train,X_test)"
   ]
  },
  {
   "cell_type": "code",
   "execution_count": null,
   "metadata": {},
   "outputs": [],
   "source": []
  },
  {
   "cell_type": "markdown",
   "metadata": {},
   "source": [
    "## Saving the models"
   ]
  },
  {
   "cell_type": "code",
   "execution_count": 7,
   "metadata": {},
   "outputs": [],
   "source": [
    "import pickle\n",
    "simpleName = '../weights/simpleLR.sav'\n",
    "lassoName = '../weights/lassoLR.sav'\n",
    "ridgeName = '../weights/ridgeLR.sav'"
   ]
  },
  {
   "cell_type": "code",
   "execution_count": 10,
   "metadata": {},
   "outputs": [],
   "source": [
    "pickle.dump(lrmodel, open(simpleName, \"wb\"))\n",
    "pickle.dump(lassomodel, open(lassoName, \"wb\"))\n",
    "pickle.dump(ridgemodel, open(ridgeName, \"wb\"))"
   ]
  },
  {
   "cell_type": "code",
   "execution_count": 17,
   "metadata": {},
   "outputs": [],
   "source": [
    "loaded_model = pickle.load(open(ridgeName, 'rb'))"
   ]
  },
  {
   "cell_type": "code",
   "execution_count": 18,
   "metadata": {},
   "outputs": [
    {
     "name": "stdout",
     "output_type": "stream",
     "text": [
      "MAE= 3466878125.0809517\n",
      "RMSE= 5412392607.16137\n",
      "R2 Score 0.48644069188954253\n"
     ]
    }
   ],
   "source": [
    "y_pred = loaded_model.predict(X_test_scaled)\n",
    "calculateMetric(y_pred, y_test)"
   ]
  },
  {
   "cell_type": "code",
   "execution_count": null,
   "metadata": {},
   "outputs": [],
   "source": []
  },
  {
   "cell_type": "code",
   "execution_count": null,
   "metadata": {},
   "outputs": [],
   "source": []
  }
 ],
 "metadata": {
  "colab": {
   "collapsed_sections": [],
   "name": "ML_Project_Linear.ipynb",
   "provenance": []
  },
  "kernelspec": {
   "display_name": "Python 3 (ipykernel)",
   "language": "python",
   "name": "python3"
  },
  "language_info": {
   "codemirror_mode": {
    "name": "ipython",
    "version": 3
   },
   "file_extension": ".py",
   "mimetype": "text/x-python",
   "name": "python",
   "nbconvert_exporter": "python",
   "pygments_lexer": "ipython3",
   "version": "3.9.6"
  }
 },
 "nbformat": 4,
 "nbformat_minor": 1
}
