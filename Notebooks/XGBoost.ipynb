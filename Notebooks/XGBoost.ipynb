{
 "cells": [
  {
   "cell_type": "code",
   "execution_count": 54,
   "id": "f016fc3c",
   "metadata": {},
   "outputs": [],
   "source": [
    "import pandas as pd\n",
    "import numpy as np\n",
    "import matplotlib.pyplot as plt\n",
    "import seaborn as sns"
   ]
  },
  {
   "cell_type": "code",
   "execution_count": 55,
   "id": "96a11479",
   "metadata": {},
   "outputs": [
    {
     "data": {
      "text/html": [
       "<div>\n",
       "<style scoped>\n",
       "    .dataframe tbody tr th:only-of-type {\n",
       "        vertical-align: middle;\n",
       "    }\n",
       "\n",
       "    .dataframe tbody tr th {\n",
       "        vertical-align: top;\n",
       "    }\n",
       "\n",
       "    .dataframe thead th {\n",
       "        text-align: right;\n",
       "    }\n",
       "</style>\n",
       "<table border=\"1\" class=\"dataframe\">\n",
       "  <thead>\n",
       "    <tr style=\"text-align: right;\">\n",
       "      <th></th>\n",
       "      <th>Unnamed: 0</th>\n",
       "      <th>difficulty</th>\n",
       "      <th>size</th>\n",
       "      <th>gas_limit</th>\n",
       "      <th>transaction_count</th>\n",
       "      <th>gas</th>\n",
       "      <th>past_min</th>\n",
       "      <th>past_mean</th>\n",
       "      <th>past_max</th>\n",
       "      <th>block_min</th>\n",
       "    </tr>\n",
       "  </thead>\n",
       "  <tbody>\n",
       "    <tr>\n",
       "      <th>0</th>\n",
       "      <td>0</td>\n",
       "      <td>0.497304</td>\n",
       "      <td>1.525696</td>\n",
       "      <td>1.376636</td>\n",
       "      <td>0.768851</td>\n",
       "      <td>-0.306444</td>\n",
       "      <td>-0.471469</td>\n",
       "      <td>-0.552406</td>\n",
       "      <td>-0.503274</td>\n",
       "      <td>0.696954</td>\n",
       "    </tr>\n",
       "    <tr>\n",
       "      <th>1</th>\n",
       "      <td>1</td>\n",
       "      <td>-0.175685</td>\n",
       "      <td>-0.151892</td>\n",
       "      <td>0.634122</td>\n",
       "      <td>-0.146996</td>\n",
       "      <td>0.373021</td>\n",
       "      <td>0.021040</td>\n",
       "      <td>0.091190</td>\n",
       "      <td>0.868203</td>\n",
       "      <td>-0.093861</td>\n",
       "    </tr>\n",
       "    <tr>\n",
       "      <th>2</th>\n",
       "      <td>2</td>\n",
       "      <td>0.074976</td>\n",
       "      <td>-1.414733</td>\n",
       "      <td>-0.108392</td>\n",
       "      <td>-0.544231</td>\n",
       "      <td>-0.382288</td>\n",
       "      <td>-0.202041</td>\n",
       "      <td>-0.555886</td>\n",
       "      <td>-0.473770</td>\n",
       "      <td>-0.357466</td>\n",
       "    </tr>\n",
       "    <tr>\n",
       "      <th>3</th>\n",
       "      <td>3</td>\n",
       "      <td>0.730501</td>\n",
       "      <td>0.085234</td>\n",
       "      <td>0.634122</td>\n",
       "      <td>-0.334579</td>\n",
       "      <td>-0.348186</td>\n",
       "      <td>0.036881</td>\n",
       "      <td>-0.276384</td>\n",
       "      <td>-0.418639</td>\n",
       "      <td>-0.291564</td>\n",
       "    </tr>\n",
       "    <tr>\n",
       "      <th>4</th>\n",
       "      <td>4</td>\n",
       "      <td>1.549208</td>\n",
       "      <td>0.792288</td>\n",
       "      <td>0.634122</td>\n",
       "      <td>0.934365</td>\n",
       "      <td>-0.309031</td>\n",
       "      <td>-0.300726</td>\n",
       "      <td>-0.273407</td>\n",
       "      <td>-0.412249</td>\n",
       "      <td>0.433349</td>\n",
       "    </tr>\n",
       "  </tbody>\n",
       "</table>\n",
       "</div>"
      ],
      "text/plain": [
       "   Unnamed: 0  difficulty      size  gas_limit  transaction_count       gas  \\\n",
       "0           0    0.497304  1.525696   1.376636           0.768851 -0.306444   \n",
       "1           1   -0.175685 -0.151892   0.634122          -0.146996  0.373021   \n",
       "2           2    0.074976 -1.414733  -0.108392          -0.544231 -0.382288   \n",
       "3           3    0.730501  0.085234   0.634122          -0.334579 -0.348186   \n",
       "4           4    1.549208  0.792288   0.634122           0.934365 -0.309031   \n",
       "\n",
       "   past_min  past_mean  past_max  block_min  \n",
       "0 -0.471469  -0.552406 -0.503274   0.696954  \n",
       "1  0.021040   0.091190  0.868203  -0.093861  \n",
       "2 -0.202041  -0.555886 -0.473770  -0.357466  \n",
       "3  0.036881  -0.276384 -0.418639  -0.291564  \n",
       "4 -0.300726  -0.273407 -0.412249   0.433349  "
      ]
     },
     "execution_count": 55,
     "metadata": {},
     "output_type": "execute_result"
    }
   ],
   "source": [
    "df = pd.read_csv('../Data/processed.csv')\n",
    "df.head()"
   ]
  },
  {
   "cell_type": "code",
   "execution_count": 56,
   "id": "a512d694",
   "metadata": {},
   "outputs": [
    {
     "data": {
      "text/html": [
       "<div>\n",
       "<style scoped>\n",
       "    .dataframe tbody tr th:only-of-type {\n",
       "        vertical-align: middle;\n",
       "    }\n",
       "\n",
       "    .dataframe tbody tr th {\n",
       "        vertical-align: top;\n",
       "    }\n",
       "\n",
       "    .dataframe thead th {\n",
       "        text-align: right;\n",
       "    }\n",
       "</style>\n",
       "<table border=\"1\" class=\"dataframe\">\n",
       "  <thead>\n",
       "    <tr style=\"text-align: right;\">\n",
       "      <th></th>\n",
       "      <th>Unnamed: 0</th>\n",
       "      <th>difficulty</th>\n",
       "      <th>size</th>\n",
       "      <th>gas_limit</th>\n",
       "      <th>transaction_count</th>\n",
       "      <th>gas</th>\n",
       "      <th>past_min</th>\n",
       "      <th>past_mean</th>\n",
       "      <th>past_max</th>\n",
       "      <th>block_min</th>\n",
       "    </tr>\n",
       "  </thead>\n",
       "  <tbody>\n",
       "    <tr>\n",
       "      <th>0</th>\n",
       "      <td>0</td>\n",
       "      <td>6425575804636287</td>\n",
       "      <td>78173</td>\n",
       "      <td>15014647</td>\n",
       "      <td>278</td>\n",
       "      <td>51024</td>\n",
       "      <td>3.365059e+09</td>\n",
       "      <td>9.980774e+09</td>\n",
       "      <td>5.395000e+10</td>\n",
       "      <td>1.200000e+10</td>\n",
       "    </tr>\n",
       "    <tr>\n",
       "      <th>1</th>\n",
       "      <td>1</td>\n",
       "      <td>6349705712431105</td>\n",
       "      <td>53730</td>\n",
       "      <td>15000000</td>\n",
       "      <td>195</td>\n",
       "      <td>320000</td>\n",
       "      <td>7.158000e+09</td>\n",
       "      <td>2.022363e+10</td>\n",
       "      <td>1.060909e+12</td>\n",
       "      <td>6.000000e+09</td>\n",
       "    </tr>\n",
       "    <tr>\n",
       "      <th>2</th>\n",
       "      <td>2</td>\n",
       "      <td>6377964208248559</td>\n",
       "      <td>35330</td>\n",
       "      <td>14985353</td>\n",
       "      <td>159</td>\n",
       "      <td>21000</td>\n",
       "      <td>5.440000e+09</td>\n",
       "      <td>9.925386e+09</td>\n",
       "      <td>7.561275e+10</td>\n",
       "      <td>4.000000e+09</td>\n",
       "    </tr>\n",
       "    <tr>\n",
       "      <th>3</th>\n",
       "      <td>3</td>\n",
       "      <td>6451865431002786</td>\n",
       "      <td>57185</td>\n",
       "      <td>15000000</td>\n",
       "      <td>178</td>\n",
       "      <td>34500</td>\n",
       "      <td>7.280000e+09</td>\n",
       "      <td>1.437368e+10</td>\n",
       "      <td>1.160908e+11</td>\n",
       "      <td>4.500000e+09</td>\n",
       "    </tr>\n",
       "    <tr>\n",
       "      <th>4</th>\n",
       "      <td>4</td>\n",
       "      <td>6544163153880016</td>\n",
       "      <td>67487</td>\n",
       "      <td>15000000</td>\n",
       "      <td>293</td>\n",
       "      <td>50000</td>\n",
       "      <td>4.680000e+09</td>\n",
       "      <td>1.442106e+10</td>\n",
       "      <td>1.207825e+11</td>\n",
       "      <td>1.000000e+10</td>\n",
       "    </tr>\n",
       "  </tbody>\n",
       "</table>\n",
       "</div>"
      ],
      "text/plain": [
       "   Unnamed: 0        difficulty   size  gas_limit  transaction_count     gas  \\\n",
       "0           0  6425575804636287  78173   15014647                278   51024   \n",
       "1           1  6349705712431105  53730   15000000                195  320000   \n",
       "2           2  6377964208248559  35330   14985353                159   21000   \n",
       "3           3  6451865431002786  57185   15000000                178   34500   \n",
       "4           4  6544163153880016  67487   15000000                293   50000   \n",
       "\n",
       "       past_min     past_mean      past_max     block_min  \n",
       "0  3.365059e+09  9.980774e+09  5.395000e+10  1.200000e+10  \n",
       "1  7.158000e+09  2.022363e+10  1.060909e+12  6.000000e+09  \n",
       "2  5.440000e+09  9.925386e+09  7.561275e+10  4.000000e+09  \n",
       "3  7.280000e+09  1.437368e+10  1.160908e+11  4.500000e+09  \n",
       "4  4.680000e+09  1.442106e+10  1.207825e+11  1.000000e+10  "
      ]
     },
     "execution_count": 56,
     "metadata": {},
     "output_type": "execute_result"
    }
   ],
   "source": [
    "dfu = pd.read_csv('../Data/unscaled.csv')\n",
    "dfu.head()"
   ]
  },
  {
   "cell_type": "code",
   "execution_count": 57,
   "id": "395a7bc9",
   "metadata": {},
   "outputs": [],
   "source": [
    "df.drop(['Unnamed: 0'], axis=1, inplace=True)\n",
    "dfu.drop(['Unnamed: 0'], axis=1, inplace=True)"
   ]
  },
  {
   "cell_type": "markdown",
   "id": "b60a1180",
   "metadata": {},
   "source": [
    "## Train-Test split"
   ]
  },
  {
   "cell_type": "code",
   "execution_count": 58,
   "id": "f633c0e0",
   "metadata": {},
   "outputs": [],
   "source": [
    "from sklearn.model_selection import train_test_split\n",
    "x = dfu\n",
    "y = dfu['block_min']\n",
    "\n",
    "x_train, x_test, y_train, y_test = train_test_split(x, y, test_size = 0.3)"
   ]
  },
  {
   "cell_type": "code",
   "execution_count": 59,
   "id": "f18fd7a4",
   "metadata": {},
   "outputs": [],
   "source": [
    "from sklearn.preprocessing import StandardScaler\n",
    "scaler = StandardScaler()\n",
    "\n",
    "x_train_scaled = x_train.copy()\n",
    "x_test_scaled = x_test.copy()\n",
    "x_train_scaled[x_train_scaled.columns] = scaler.fit_transform(x_train_scaled[x_train_scaled.columns])\n",
    "x_test_scaled[x_test_scaled.columns] = scaler.fit_transform(x_test_scaled[x_test_scaled.columns])\n",
    "x_train_scaled.drop(['block_min'], axis=1, inplace=True)\n",
    "x_test_scaled.drop(['block_min'], axis=1, inplace=True)"
   ]
  },
  {
   "cell_type": "markdown",
   "id": "3ef230cd",
   "metadata": {},
   "source": [
    "## Gridsearch to tune parameters"
   ]
  },
  {
   "cell_type": "code",
   "execution_count": 60,
   "id": "172a9676",
   "metadata": {},
   "outputs": [
    {
     "name": "stdout",
     "output_type": "stream",
     "text": [
      "Fitting 3 folds for each of 20 candidates, totalling 60 fits\n"
     ]
    },
    {
     "data": {
      "text/plain": [
       "GridSearchCV(cv=3,\n",
       "             estimator=XGBRegressor(base_score=None, booster=None,\n",
       "                                    colsample_bylevel=None,\n",
       "                                    colsample_bynode=None,\n",
       "                                    colsample_bytree=None,\n",
       "                                    enable_categorical=False, gamma=None,\n",
       "                                    gpu_id=None, importance_type=None,\n",
       "                                    interaction_constraints=None,\n",
       "                                    learning_rate=None, max_delta_step=None,\n",
       "                                    max_depth=None, min_child_weight=None,\n",
       "                                    missing=nan, monotone_constraints=None,\n",
       "                                    n_estimators=100, n_jobs=None,\n",
       "                                    num_parallel_tree=None, predictor=None,\n",
       "                                    random_state=None, reg_alpha=None,\n",
       "                                    reg_lambda=None, scale_pos_weight=None,\n",
       "                                    subsample=None, tree_method=None,\n",
       "                                    validate_parameters=None, verbosity=None),\n",
       "             param_grid={'max_depth': [5, 10, 15, 20, 25],\n",
       "                         'n_estimators': [10, 30, 60, 100]},\n",
       "             return_train_score=True, scoring='neg_root_mean_squared_error',\n",
       "             verbose=1)"
      ]
     },
     "execution_count": 60,
     "metadata": {},
     "output_type": "execute_result"
    }
   ],
   "source": [
    "from xgboost import XGBRegressor\n",
    "from sklearn.model_selection import GridSearchCV\n",
    "\n",
    "xgb = XGBRegressor(objective ='reg:squarederror')\n",
    "no_of_estimators = [10, 30, 60, 100]\n",
    "maximumdepth = [5, 10, 15, 20, 25]\n",
    "parameters = {'n_estimators': no_of_estimators ,'max_depth': maximumdepth}\n",
    "model = GridSearchCV(estimator=xgb, param_grid=parameters, cv=3, scoring='neg_root_mean_squared_error', return_train_score=True, verbose=1)\n",
    "model.fit(x_train_scaled[:100000], y_train[:100000])"
   ]
  },
  {
   "cell_type": "code",
   "execution_count": 61,
   "id": "01b47863",
   "metadata": {
    "scrolled": true
   },
   "outputs": [
    {
     "name": "stdout",
     "output_type": "stream",
     "text": [
      "Model with best parameters :\n",
      " {'max_depth': 20, 'n_estimators': 100}\n"
     ]
    },
    {
     "data": {
      "image/png": "[encoded data removed]",
      "text/plain": [
       "<Figure size 1080x360 with 4 Axes>"
      ]
     },
     "metadata": {
      "needs_background": "light"
     },
     "output_type": "display_data"
    }
   ],
   "source": [
    "print(\"Model with best parameters :\\n\", model.best_params_)\n",
    "train_auc = model.cv_results_['mean_train_score'].reshape(len(maximumdepth), len(no_of_estimators))\n",
    "cv_auc = model.cv_results_['mean_test_score'].reshape(len(maximumdepth), len(no_of_estimators))\n",
    "\n",
    "f, axes = plt.subplots(1, 2,figsize=(15,5))\n",
    "\n",
    "for i in range(2):\n",
    "    title = train_auc if i == 0 else cv_auc\n",
    "    sns.heatmap(title, xticklabels=no_of_estimators, yticklabels=maximumdepth, annot=True, ax=axes[i])\n",
    "    axes[i].set_title(f\"Gridearch {'Train' if i==0 else 'CV'}\")\n",
    "    axes[i].set_xlabel(\"no_of_estimators\")\n",
    "    axes[i].set_ylabel(\"maximum_depth\")"
   ]
  },
  {
   "cell_type": "markdown",
   "id": "8b417160",
   "metadata": {},
   "source": [
    "## Training the model"
   ]
  },
  {
   "cell_type": "code",
   "execution_count": 62,
   "id": "cd1e46bd",
   "metadata": {},
   "outputs": [
    {
     "data": {
      "text/plain": [
       "XGBRegressor(base_score=0.5, booster='gbtree', colsample_bylevel=1,\n",
       "             colsample_bynode=1, colsample_bytree=1, enable_categorical=False,\n",
       "             gamma=0, gpu_id=-1, importance_type=None,\n",
       "             interaction_constraints='', learning_rate=0.300000012,\n",
       "             max_delta_step=0, max_depth=20, min_child_weight=1, missing=nan,\n",
       "             monotone_constraints='()', n_estimators=100, n_jobs=8,\n",
       "             num_parallel_tree=1, predictor='auto', random_state=0, reg_alpha=0,\n",
       "             reg_lambda=1, scale_pos_weight=1, subsample=1, tree_method='exact',\n",
       "             validate_parameters=1, verbosity=None)"
      ]
     },
     "execution_count": 62,
     "metadata": {},
     "output_type": "execute_result"
    }
   ],
   "source": [
    "xgb_r = XGBRegressor(objective ='reg:squarederror', no_of_estimators=)\n",
    "xgb_r.fit(x_train_scaled, y_train)"
   ]
  },
  {
   "cell_type": "code",
   "execution_count": null,
   "id": "bf595228",
   "metadata": {},
   "outputs": [],
   "source": []
  },
  {
   "cell_type": "code",
   "execution_count": 63,
   "id": "6c0ae5e4",
   "metadata": {},
   "outputs": [],
   "source": [
    "y_pred = xgb_r.predict(x_test_scaled)"
   ]
  },
  {
   "cell_type": "code",
   "execution_count": 64,
   "id": "5f5514f4",
   "metadata": {},
   "outputs": [],
   "source": [
    "y_p_tr = xgb_r.predict(x_train_scaled)"
   ]
  },
  {
   "cell_type": "code",
   "execution_count": null,
   "id": "ee63efe4",
   "metadata": {},
   "outputs": [],
   "source": []
  },
  {
   "cell_type": "code",
   "execution_count": 65,
   "id": "e155f06e",
   "metadata": {},
   "outputs": [],
   "source": [
    "def accuracy(y_pred,data):\n",
    "    correct=0\n",
    "    i=0\n",
    "    for index,row in data.iterrows():\n",
    "        if(y_pred[i]>=row['past_min'] and y_pred[i]<=row['past_max']):\n",
    "            correct+=1\n",
    "        i+=1\n",
    "    acc = correct/data.shape[0]\n",
    "    return acc "
   ]
  },
  {
   "cell_type": "code",
   "execution_count": 66,
   "id": "353aca7f",
   "metadata": {},
   "outputs": [],
   "source": [
    "from sklearn.metrics import mean_absolute_error,mean_squared_error,accuracy_score, r2_score\n",
    "from math import sqrt\n",
    "\n",
    "def calculateMetric(y_pred, y_test, data):\n",
    "    print(\"MAE=\",mean_absolute_error(y_test,y_pred))\n",
    "    print(\"RMSE=\",sqrt(mean_squared_error(y_test,y_pred)))\n",
    "    print(\"R2 Score\", r2_score(y_test,y_pred))\n",
    "    print(\"accuracy\", accuracy(y_pred, data))"
   ]
  },
  {
   "cell_type": "code",
   "execution_count": 67,
   "id": "ad95b17c",
   "metadata": {},
   "outputs": [
    {
     "name": "stdout",
     "output_type": "stream",
     "text": [
      "MAE= 727227649.5744852\n",
      "RMSE= 2006785050.5672634\n",
      "R2 Score 0.9300184919858254\n",
      "accuracy 0.49895466599089516\n"
     ]
    }
   ],
   "source": [
    "calculateMetric(y_pred, y_test, x_test)"
   ]
  },
  {
   "cell_type": "code",
   "execution_count": 68,
   "id": "61e897d9",
   "metadata": {},
   "outputs": [
    {
     "name": "stdout",
     "output_type": "stream",
     "text": [
      "MAE= 14837.764256957646\n",
      "RMSE= 51435.61503438551\n",
      "R2 Score 0.9999999999540466\n",
      "accuracy 0.5104578653464988\n"
     ]
    }
   ],
   "source": [
    "calculateMetric(y_p_tr, y_train, x_train)"
   ]
  },
  {
   "cell_type": "code",
   "execution_count": null,
   "id": "9463cfb9",
   "metadata": {},
   "outputs": [],
   "source": []
  },
  {
   "cell_type": "code",
   "execution_count": null,
   "id": "8403d0ac",
   "metadata": {},
   "outputs": [],
   "source": []
  }
 ],
 "metadata": {
  "kernelspec": {
   "display_name": "Python 3 (ipykernel)",
   "language": "python",
   "name": "python3"
  },
  "language_info": {
   "codemirror_mode": {
    "name": "ipython",
    "version": 3
   },
   "file_extension": ".py",
   "mimetype": "text/x-python",
   "name": "python",
   "nbconvert_exporter": "python",
   "pygments_lexer": "ipython3",
   "version": "3.9.6"
  }
 },
 "nbformat": 4,
 "nbformat_minor": 5
}
