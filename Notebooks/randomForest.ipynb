{
 "cells": [
  {
   "cell_type": "code",
   "execution_count": 1,
   "id": "38030a17",
   "metadata": {
    "colab": {
     "base_uri": "https://localhost:8080/"
    },
    "executionInfo": {
     "elapsed": 313419,
     "status": "ok",
     "timestamp": 1637895829242,
     "user": {
      "displayName": "Saatvik Bhatnagar",
      "photoUrl": "https://lh3.googleusercontent.com/a/default-user=s64",
      "userId": "01069355769485426396"
     },
     "user_tz": -330
    },
    "id": "b13a5612",
    "outputId": "9b82ccc3-e24d-4b94-bc74-d79b2515be35"
   },
   "outputs": [],
   "source": [
    "import pandas as pd\n",
    "from sklearn.model_selection import train_test_split\n",
    "from sklearn.ensemble import RandomForestRegressor,AdaBoostRegressor\n",
    "from sklearn.linear_model import LinearRegression,Lasso,Ridge\n",
    "from sklearn.model_selection import GridSearchCV\n",
    "from sklearn import metrics\n",
    "from sklearn.metrics import mean_absolute_error,mean_squared_error,accuracy_score\n",
    "import matplotlib.pyplot as plt\n",
    "from math import sqrt\n",
    "import seaborn as sns\n",
    "from sklearn.svm import SVR\n",
    "from sklearn.preprocessing import StandardScaler"
   ]
  },
  {
   "cell_type": "code",
   "execution_count": 17,
   "id": "1d752bd9",
   "metadata": {
    "colab": {
     "base_uri": "https://localhost:8080/"
    },
    "executionInfo": {
     "elapsed": 313419,
     "status": "ok",
     "timestamp": 1637895829242,
     "user": {
      "displayName": "Saatvik Bhatnagar",
      "photoUrl": "https://lh3.googleusercontent.com/a/default-user=s64",
      "userId": "01069355769485426396"
     },
     "user_tz": -330
    },
    "id": "b13a5612",
    "outputId": "9b82ccc3-e24d-4b94-bc74-d79b2515be35"
   },
   "outputs": [],
   "source": [
    "def calculateR2(y_test,y_pred):\n",
    "    v = ((y_test - y_test.mean())**2).sum()\n",
    "    u = ((y_test - y_pred)**2).sum()\n",
    "    return 1-u/v\n",
    "\n",
    "def calculateMetric(y_pred,y_test):\n",
    "    print(\"MAE=\",mean_absolute_error(y_test,y_pred))\n",
    "    print(\"RMSE=\",sqrt(mean_squared_error(y_test,y_pred)))\n",
    "    print(\"R2 Score\",calculateR2(y_test,y_pred))\n",
    "\n",
    "def accuracy(y_pred,data):\n",
    "    correct=0\n",
    "    i=0\n",
    "    for index,row in data.iterrows():\n",
    "        if(y_pred[i]>=row['block_min'] and y_pred[i]<=row['past_max']):\n",
    "            correct+=1\n",
    "        i+=1\n",
    "    acc = correct/data.shape[0]\n",
    "    print(\"Accuracy\", acc)\n",
    "    return acc \n",
    "\n",
    "def simpleRandomForest(y_train,y_test,X_train_scaled,X_test_scaled,X_train,X_test): \n",
    "    regr = RandomForestRegressor()\n",
    "    regr.fit(X_train_scaled,y_train)\n",
    "    print(\"Training\")\n",
    "    y_pred = regr.predict(X_train_scaled)\n",
    "    accuracy(y_pred,X_train)\n",
    "    calculateMetric(y_pred,y_train)\n",
    "    print(\"Testing\")\n",
    "    y_pred = regr.predict(X_test_scaled)\n",
    "    calculateMetric(y_pred,y_test)\n",
    "    accuracy(y_pred,X_test)\n",
    "    return regr\n",
    "\n",
    "def RFgridSearchCV(y_train,y_test,X_train_scaled,X_test_scaled,X_train,X_test):\n",
    "    regr = RandomForestRegressor()\n",
    "    estimators = [50,75,100,150]\n",
    "    max_depths = [3,6,9,12]\n",
    "    parameters = {\"n_estimators\":estimators,\"max_depth\":max_depths}\n",
    "    reg = GridSearchCV(estimator=regr,param_grid=parameters,cv=3,scoring=\"neg_root_mean_squared_error\",n_jobs=-1,return_train_score=True)\n",
    "    reg.fit(X_train_scaled,y_train)\n",
    "    print(\"Model with best parameters :\\n\",reg.best_params_)\n",
    "    train_auc = reg.cv_results_['mean_train_score'].reshape(len(estimators), len(max_depths))\n",
    "    cv_auc = reg.cv_results_['mean_test_score'].reshape(len(estimators), len(max_depths))\n",
    "\n",
    "    f, axes = plt.subplots(1, 2,figsize=(30,10))\n",
    "\n",
    "    for i in range(2):\n",
    "        title = train_auc if i == 0 else cv_auc\n",
    "        sns.heatmap(title, xticklabels=estimators, yticklabels=max_depths, annot=True, ax=axes[i])\n",
    "        axes[i].set_title(f\"Grid search {'Train' if i==0 else 'CV'}\")\n",
    "        axes[i].set_xlabel(\"n_estimators\")\n",
    "        axes[i].set_ylabel(\"maximum_depth\")\n",
    "\n",
    "def bestRFRegressor(y_train,y_test,X_train_scaled,X_test_scaled,X_train,X_test):\n",
    "    #n_estimators=150,max_depth=12\n",
    "    bestRF = RandomForestRegressor(n_estimators=200,max_depth=15)\n",
    "    bestRF.fit(X_train_scaled,y_train)\n",
    "    print(\"Training Data\")\n",
    "    y_pred = bestRF.predict(X_train_scaled)\n",
    "    accuracy(y_pred,X_train)\n",
    "    calculateMetric(y_pred,y_train)\n",
    "    y_pred = bestRF.predict(X_test_scaled)\n",
    "    print(\"Testing Data\")\n",
    "    accuracy(y_pred,X_test)\n",
    "    calculateMetric(y_pred,y_test)\n",
    "    return bestRF"
   ]
  },
  {
   "cell_type": "code",
   "execution_count": 7,
   "id": "b13a5612",
   "metadata": {
    "colab": {
     "base_uri": "https://localhost:8080/"
    },
    "executionInfo": {
     "elapsed": 313419,
     "status": "ok",
     "timestamp": 1637895829242,
     "user": {
      "displayName": "Saatvik Bhatnagar",
      "photoUrl": "https://lh3.googleusercontent.com/a/default-user=s64",
      "userId": "01069355769485426396"
     },
     "user_tz": -330
    },
    "id": "b13a5612",
    "outputId": "9b82ccc3-e24d-4b94-bc74-d79b2515be35"
   },
   "outputs": [],
   "source": [
    "data = pd.read_csv(\"../Data/unscaled.csv\")\n",
    "del data['Unnamed: 0']\n",
    "scaler = StandardScaler()\n",
    "data = data[:500000]\n",
    "y = data['block_min']\n",
    "X = data\n",
    "X_train,X_test,y_train,y_test = train_test_split(X,y,test_size=0.3)\n",
    "X_train_scaled = X_train.copy()\n",
    "X_train_scaled = X_train_scaled.drop(['block_min'], axis=1)\n",
    "X_test_scaled = X_test.copy()\n",
    "X_test_scaled = X_test_scaled.drop(['block_min'], axis=1)\n",
    "X_train_scaled[X_train_scaled.columns[:]] = scaler.fit_transform(X_train_scaled[X_train_scaled.columns[:]])\n",
    "X_test_scaled[X_test_scaled.columns[:]] = scaler.fit_transform(X_test_scaled[X_test_scaled.columns[:]])"
   ]
  },
  {
   "cell_type": "code",
   "execution_count": 16,
   "id": "3a6cebbf",
   "metadata": {},
   "outputs": [
    {
     "name": "stdout",
     "output_type": "stream",
     "text": [
      "Training\n",
      "Accuracy 0.9765657142857143\n",
      "MAE= 178802.3933875172\n",
      "RMSE= 15787422.765401194\n",
      "R2 Score 0.9999975511952016\n",
      "Testing\n",
      "MAE= 937173095.4471967\n",
      "RMSE= 2449901476.079192\n",
      "R2 Score 0.9398692128119994\n",
      "Accuracy 0.5018\n"
     ]
    }
   ],
   "source": [
    "simpleRF = simpleRandomForest(y_train,y_test,X_train_scaled,X_test_scaled,X_train,X_test)"
   ]
  },
  {
   "cell_type": "code",
   "execution_count": null,
   "id": "a4548ba3",
   "metadata": {},
   "outputs": [],
   "source": []
  },
  {
   "cell_type": "markdown",
   "id": "db4953b9",
   "metadata": {},
   "source": [
    "## Saving the model"
   ]
  },
  {
   "cell_type": "code",
   "execution_count": 9,
   "id": "21c69239",
   "metadata": {},
   "outputs": [],
   "source": [
    "import pickle\n",
    "fileName = \"../weights/randomForest.sav\"\n",
    "pickle.dump(simpleRF, open(fileName, \"wb\"))"
   ]
  },
  {
   "cell_type": "code",
   "execution_count": 10,
   "id": "7c59127f",
   "metadata": {},
   "outputs": [],
   "source": [
    "loaded_model = pickle.load(open(fileName, 'rb'))"
   ]
  },
  {
   "cell_type": "code",
   "execution_count": 14,
   "id": "f73f02f4",
   "metadata": {},
   "outputs": [
    {
     "name": "stdout",
     "output_type": "stream",
     "text": [
      "MAE= 937173095.4471967\n",
      "RMSE= 2449901476.079192\n",
      "R2 Score 0.9398692128119994\n",
      "Accuracy 0.5018\n"
     ]
    },
    {
     "data": {
      "text/plain": [
       "0.5018"
      ]
     },
     "execution_count": 14,
     "metadata": {},
     "output_type": "execute_result"
    }
   ],
   "source": [
    "y_pred = loaded_model.predict(X_test_scaled)\n",
    "calculateMetric(y_pred, y_test)\n",
    "accuracy(y_pred, X_test)"
   ]
  },
  {
   "cell_type": "code",
   "execution_count": null,
   "id": "9463cfb9",
   "metadata": {
    "id": "9463cfb9"
   },
   "outputs": [],
   "source": []
  },
  {
   "cell_type": "code",
   "execution_count": null,
   "id": "8403d0ac",
   "metadata": {
    "id": "8403d0ac"
   },
   "outputs": [],
   "source": []
  }
 ],
 "metadata": {
  "colab": {
   "name": "ML_Project_RF.ipynb",
   "provenance": []
  },
  "kernelspec": {
   "display_name": "Python 3 (ipykernel)",
   "language": "python",
   "name": "python3"
  },
  "language_info": {
   "codemirror_mode": {
    "name": "ipython",
    "version": 3
   },
   "file_extension": ".py",
   "mimetype": "text/x-python",
   "name": "python",
   "nbconvert_exporter": "python",
   "pygments_lexer": "ipython3",
   "version": "3.9.6"
  }
 },
 "nbformat": 4,
 "nbformat_minor": 5
}
