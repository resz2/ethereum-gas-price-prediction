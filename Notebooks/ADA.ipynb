{
 "cells": [
  {
   "cell_type": "code",
   "execution_count": 1,
   "metadata": {
    "colab": {
     "base_uri": "https://localhost:8080/"
    },
    "executionInfo": {
     "elapsed": 217295,
     "status": "ok",
     "timestamp": 1638108902349,
     "user": {
      "displayName": "Saatvik Bhatnagar",
      "photoUrl": "https://lh3.googleusercontent.com/a/default-user=s64",
      "userId": "01069355769485426396"
     },
     "user_tz": -330
    },
    "id": "bcwX7PiEJQZY",
    "outputId": "0d7484e2-55d3-450b-9cf0-91f548954202"
   },
   "outputs": [],
   "source": [
    "import pandas as pd\n",
    "from sklearn.model_selection import train_test_split\n",
    "from sklearn.ensemble import RandomForestRegressor,AdaBoostRegressor\n",
    "from sklearn.linear_model import LinearRegression,Lasso,Ridge\n",
    "from sklearn.model_selection import GridSearchCV\n",
    "from sklearn import metrics\n",
    "from sklearn.metrics import mean_absolute_error,mean_squared_error,accuracy_score\n",
    "import matplotlib.pyplot as plt\n",
    "from math import sqrt\n",
    "import seaborn as sns\n",
    "\n",
    "from sklearn.svm import SVR\n",
    "from sklearn.preprocessing import StandardScaler"
   ]
  },
  {
   "cell_type": "code",
   "execution_count": 2,
   "metadata": {
    "colab": {
     "base_uri": "https://localhost:8080/"
    },
    "executionInfo": {
     "elapsed": 217295,
     "status": "ok",
     "timestamp": 1638108902349,
     "user": {
      "displayName": "Saatvik Bhatnagar",
      "photoUrl": "https://lh3.googleusercontent.com/a/default-user=s64",
      "userId": "01069355769485426396"
     },
     "user_tz": -330
    },
    "id": "bcwX7PiEJQZY",
    "outputId": "0d7484e2-55d3-450b-9cf0-91f548954202"
   },
   "outputs": [],
   "source": [
    "def calculateR2(y_test,y_pred):\n",
    "    v = ((y_test - y_test.mean())**2).sum()\n",
    "    u = ((y_test - y_pred)**2).sum()\n",
    "    return 1-u/v\n",
    "\n",
    "def calculateMetric(y_pred,y_test):\n",
    "    print(\"MAE=\",mean_absolute_error(y_test,y_pred))\n",
    "    print(\"RMSE=\",sqrt(mean_squared_error(y_test,y_pred)))\n",
    "    print(\"R2 Score\",calculateR2(y_test,y_pred))\n",
    "\n",
    "def AdaBoostRegression(y_train,y_test,X_train_scaled,X_test_scaled,X_train,X_test): \n",
    "  # svr = SVR(kernel=\"linear\")\n",
    "    rgr = AdaBoostRegressor(n_estimators=100,learning_rate=0.1)\n",
    "    rgr.fit(X_train_scaled,y_train)\n",
    "    print(\"Training Data\");\n",
    "    y_pred = rgr.predict(X_train_scaled)\n",
    "    accuracy(y_pred,X_train)\n",
    "    calculateMetric(y_pred,y_train)\n",
    "    y_pred = rgr.predict(X_test_scaled)\n",
    "    print(\"Testing Data\");\n",
    "    accuracy(y_pred,X_test)\n",
    "    calculateMetric(y_pred,y_test)\n",
    "    return rgr\n",
    "\n",
    "\n",
    "def accuracy(y_pred,data):\n",
    "    correct=0\n",
    "    i=0\n",
    "    for index,row in data.iterrows():\n",
    "        if(y_pred[i]>=row['block_min'] and y_pred[i]<=row['past_max']):\n",
    "            correct+=1\n",
    "        i+=1\n",
    "    acc = correct/data.shape[0]\n",
    "    print(\"Accuracy\", acc)\n",
    "    return acc "
   ]
  },
  {
   "cell_type": "code",
   "execution_count": 3,
   "metadata": {
    "colab": {
     "base_uri": "https://localhost:8080/"
    },
    "executionInfo": {
     "elapsed": 217295,
     "status": "ok",
     "timestamp": 1638108902349,
     "user": {
      "displayName": "Saatvik Bhatnagar",
      "photoUrl": "https://lh3.googleusercontent.com/a/default-user=s64",
      "userId": "01069355769485426396"
     },
     "user_tz": -330
    },
    "id": "bcwX7PiEJQZY",
    "outputId": "0d7484e2-55d3-450b-9cf0-91f548954202"
   },
   "outputs": [],
   "source": [
    "data = pd.read_csv(\"../Data/unscaled.csv\")\n",
    "del data['Unnamed: 0']\n",
    "scaler = StandardScaler()\n",
    "y = data['block_min']\n",
    "X = data\n",
    "X_train,X_test,y_train,y_test = train_test_split(X,y,test_size=0.3)\n",
    "X_train_scaled = X_train.copy()\n",
    "X_train_scaled = X_train_scaled.drop(['block_min'], axis=1)\n",
    "X_test_scaled = X_test.copy()\n",
    "X_test_scaled = X_test_scaled.drop(['block_min'], axis=1)\n",
    "X_train_scaled[X_train_scaled.columns[:]] = scaler.fit_transform(X_train_scaled[X_train_scaled.columns[:]])\n",
    "X_test_scaled[X_test_scaled.columns[:]] = scaler.fit_transform(X_test_scaled[X_test_scaled.columns[:]])"
   ]
  },
  {
   "cell_type": "code",
   "execution_count": 4,
   "metadata": {
    "colab": {
     "base_uri": "https://localhost:8080/"
    },
    "executionInfo": {
     "elapsed": 217295,
     "status": "ok",
     "timestamp": 1638108902349,
     "user": {
      "displayName": "Saatvik Bhatnagar",
      "photoUrl": "https://lh3.googleusercontent.com/a/default-user=s64",
      "userId": "01069355769485426396"
     },
     "user_tz": -330
    },
    "id": "bcwX7PiEJQZY",
    "outputId": "0d7484e2-55d3-450b-9cf0-91f548954202"
   },
   "outputs": [
    {
     "name": "stdout",
     "output_type": "stream",
     "text": [
      "Training Data\n",
      "Accuracy 0.570738146739812\n",
      "MAE= 3641920109.331841\n",
      "RMSE= 4481166807.194535\n",
      "R2 Score 0.6554527945910209\n",
      "Testing Data\n",
      "Accuracy 0.5713044501362102\n",
      "MAE= 3662863017.4820356\n",
      "RMSE= 4699540548.529071\n",
      "R2 Score 0.6048365853260302\n"
     ]
    }
   ],
   "source": [
    "adaBoost = AdaBoostRegression(y_train,y_test,X_train_scaled,X_test_scaled,X_train,X_test)"
   ]
  },
  {
   "cell_type": "code",
   "execution_count": null,
   "metadata": {},
   "outputs": [],
   "source": []
  },
  {
   "cell_type": "markdown",
   "metadata": {},
   "source": [
    "## Saving the model"
   ]
  },
  {
   "cell_type": "code",
   "execution_count": 5,
   "metadata": {
    "executionInfo": {
     "elapsed": 501,
     "status": "ok",
     "timestamp": 1638109725627,
     "user": {
      "displayName": "Saatvik Bhatnagar",
      "photoUrl": "https://lh3.googleusercontent.com/a/default-user=s64",
      "userId": "01069355769485426396"
     },
     "user_tz": -330
    },
    "id": "tigLofD75oed"
   },
   "outputs": [],
   "source": [
    "import pickle\n",
    "fileName = \"../weights/ADABoost.sav\"\n",
    "pickle.dump(adaBoost,open(fileName,\"wb\"))"
   ]
  },
  {
   "cell_type": "code",
   "execution_count": 7,
   "metadata": {
    "colab": {
     "base_uri": "https://localhost:8080/"
    },
    "executionInfo": {
     "elapsed": 19927,
     "status": "ok",
     "timestamp": 1638109862193,
     "user": {
      "displayName": "Saatvik Bhatnagar",
      "photoUrl": "https://lh3.googleusercontent.com/a/default-user=s64",
      "userId": "01069355769485426396"
     },
     "user_tz": -330
    },
    "id": "Jr9Qwbb98MzR",
    "outputId": "82833164-18c6-4fcc-b23b-3eee524704e2"
   },
   "outputs": [],
   "source": [
    "loaded_model = pickle.load(open(fileName, 'rb'))\n",
    "y_pred = loaded_model.predict(X_test_scaled)"
   ]
  },
  {
   "cell_type": "code",
   "execution_count": 8,
   "metadata": {
    "colab": {
     "base_uri": "https://localhost:8080/"
    },
    "executionInfo": {
     "elapsed": 19927,
     "status": "ok",
     "timestamp": 1638109862193,
     "user": {
      "displayName": "Saatvik Bhatnagar",
      "photoUrl": "https://lh3.googleusercontent.com/a/default-user=s64",
      "userId": "01069355769485426396"
     },
     "user_tz": -330
    },
    "id": "Jr9Qwbb98MzR",
    "outputId": "82833164-18c6-4fcc-b23b-3eee524704e2"
   },
   "outputs": [
    {
     "name": "stdout",
     "output_type": "stream",
     "text": [
      "Testing Data\n",
      "Accuracy 0.5713044501362102\n",
      "MAE= 3662863017.4820356\n",
      "RMSE= 4699540548.529071\n",
      "R2 Score 0.6048365853260302\n"
     ]
    }
   ],
   "source": [
    "print(\"Testing Data\");\n",
    "accuracy(y_pred,X_test)\n",
    "calculateMetric(y_pred,y_test)"
   ]
  }
 ],
 "metadata": {
  "colab": {
   "authorship_tag": "ABX9TyMOVgW64wc44ejLDV/3Z9WG",
   "collapsed_sections": [],
   "mount_file_id": "1gAkJgOrp4JkLyag9npS3CG7-TOUF3V1S",
   "name": "ADA.ipynb",
   "provenance": []
  },
  "kernelspec": {
   "display_name": "Python 3 (ipykernel)",
   "language": "python",
   "name": "python3"
  },
  "language_info": {
   "codemirror_mode": {
    "name": "ipython",
    "version": 3
   },
   "file_extension": ".py",
   "mimetype": "text/x-python",
   "name": "python",
   "nbconvert_exporter": "python",
   "pygments_lexer": "ipython3",
   "version": "3.9.6"
  }
 },
 "nbformat": 4,
 "nbformat_minor": 1
}
